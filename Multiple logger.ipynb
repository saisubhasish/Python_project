{
 "cells": [
  {
   "cell_type": "markdown",
   "id": "8ac90d07",
   "metadata": {},
   "source": [
    "# Multiple logger"
   ]
  },
  {
   "cell_type": "code",
   "execution_count": null,
   "id": "6f41fad8",
   "metadata": {},
   "outputs": [],
   "source": [
    "# To get log from multiple person\n",
    "\n",
    "import logging as lg\n",
    "\n",
    "lg.basicConfig(filename= 'test3.log', level = lg.DEBUG, format='%(asctime)s - %(name)s - %(levelname)s - %(message)s')\n",
    "\n",
    "# We use stream handler to print the logging information to the console\n",
    "# Creating handler\n",
    "console_log = lg.StreamHandler()\n",
    "console_log.setLevel(lg.DEBUG)\n",
    "\n",
    "format = lg.Formatter('%(asctime)s - %(name)s - %(levelname)s - %(message)s')\n",
    "console_log.setFormatter(format)\n",
    "\n",
    "#Create a custom logger\n",
    "lg.getLogger('').addHandler(console_log)\n",
    "lg.info('This is my first code')\n",
    "\n",
    "#logger1 = lg.getLogger('logger1.area1')\n",
    "#logger2 = lg.getLogger('logger2.area2')\n",
    "\n",
    "logger1 = lg.getLogger('User1')\n",
    "logger2 = lg.getLogger('User2')\n",
    "logger3 = lg.getLogger('User3')\n",
    "logger4 = lg.getLogger('User4')\n",
    "\n",
    "logger1.info('This info for logger1')\n",
    "logger2.debug('This debug for logger2')\n",
    "logger2.info('This info for logger2')\n",
    "logger3.debug('This info for logger3')\n",
    "logger4.critical('This info for logger4')\n",
    "logger3.error('This info for logger3')\n",
    "logger4.exception('This info for logger4')"
   ]
  }
 ],
 "metadata": {
  "kernelspec": {
   "display_name": "Python 3 (ipykernel)",
   "language": "python",
   "name": "python3"
  },
  "language_info": {
   "codemirror_mode": {
    "name": "ipython",
    "version": 3
   },
   "file_extension": ".py",
   "mimetype": "text/x-python",
   "name": "python",
   "nbconvert_exporter": "python",
   "pygments_lexer": "ipython3",
   "version": "3.9.13"
  }
 },
 "nbformat": 4,
 "nbformat_minor": 5
}
