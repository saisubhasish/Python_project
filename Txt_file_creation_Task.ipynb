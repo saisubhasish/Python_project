{
 "cells": [
  {
   "cell_type": "markdown",
   "id": "6783a7df",
   "metadata": {},
   "source": [
    "### Create a directory, create 10 txt file and write some data in all file at the same time, read all data from this directory and print in console, hod all data in a list, write all data in a new file from a list, keep only new file in present directory and move rest to new directory."
   ]
  },
  {
   "cell_type": "code",
   "execution_count": null,
   "id": "aca7aff2",
   "metadata": {},
   "outputs": [],
   "source": [
    "import os\n",
    "import shutil\n",
    "\n",
    "def file_operations():\n",
    "    \n",
    "    #Making directory if not present \n",
    "    #if not os.path.isdir('test'):\n",
    "    if 'test' not in os.listdir():\n",
    "        os.mkdir('test')\n",
    "        \n",
    "    #Changing the directory\n",
    "    os.chdir('C:\\\\Users\\\\Sai\\\\test')\n",
    "    \n",
    "    #Creating files and writing\n",
    "    for i in range(10):\n",
    "        f = open(f'test{i}.txt', 'w+')\n",
    "        f.write('Hey There!')\n",
    "    f.close()\n",
    "    \n",
    "    #Reding from files\n",
    "    for i in range(10):\n",
    "        f = open(f'test{i}.txt', 'r+')\n",
    "        print(f.read())\n",
    "    f.close()\n",
    "        \n",
    "    #Holding data to list\n",
    "    l = []\n",
    "    for i in range(10):\n",
    "        f = open(f'test{i}.txt', 'r')\n",
    "        l.append(f.read())\n",
    "    f.close()\n",
    "    print(l)\n",
    "    \n",
    "    #Writing all data to a new file from list\n",
    "    for i in range(10):\n",
    "        f = open(f'test{i}.txt', 'w')\n",
    "        for i in l:\n",
    "            f.write(i)\n",
    "    f.close()\n",
    "    \n",
    "    #Making new directory    \n",
    "    #if not os.path.isdir('Sai'):\n",
    "    if 'Sai' not in os.listdir():\n",
    "        os.mkdir('Sai')\n",
    "    \n",
    "    #Keeping the new file to present directory and moving the rest to new directory\n",
    "    for i in range(10):\n",
    "        shutil.move(f'C:\\\\Users\\\\Sai\\\\test\\\\test{i}.txt', 'C:\\\\Users\\\\Sai\\\\Sai')\n",
    "    \n",
    "    \n",
    "file_operations()"
   ]
  }
 ],
 "metadata": {
  "kernelspec": {
   "display_name": "Python 3 (ipykernel)",
   "language": "python",
   "name": "python3"
  },
  "language_info": {
   "codemirror_mode": {
    "name": "ipython",
    "version": 3
   },
   "file_extension": ".py",
   "mimetype": "text/x-python",
   "name": "python",
   "nbconvert_exporter": "python",
   "pygments_lexer": "ipython3",
   "version": "3.9.13"
  }
 },
 "nbformat": 4,
 "nbformat_minor": 5
}
