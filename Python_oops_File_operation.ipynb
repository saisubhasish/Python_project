{
 "cells": [
  {
   "cell_type": "markdown",
   "id": "5f9937c5",
   "metadata": {},
   "source": [
    "### Create a class named 'Data', create an init method with variable, 'file_name', 'file_type', 'date', 'size'. Create a function named 'file_open()' which will take file name and create file in your local if not exists and write something in the file. Create another function which will take file_name and read data and return. Create another file named 'file_append()' and append new data in same file and show. \n",
    "\n",
    "### Implement i) Exception handling, ii) Logger by creating a separate method which will act as logging, iii) Description"
   ]
  },
  {
   "cell_type": "code",
   "execution_count": 4,
   "id": "fb7ecb6c",
   "metadata": {
    "scrolled": false
   },
   "outputs": [
    {
     "name": "stdout",
     "output_type": "stream",
     "text": [
      "This is a text file\n",
      "Created on 05/12/2022\n",
      "With size 2MB\n",
      "\n",
      "This is Object oriented programming\n"
     ]
    }
   ],
   "source": [
    "import os\n",
    "import logging as lg\n",
    "import datetime\n",
    "\n",
    "class Data:\n",
    "    '''\n",
    "    This class is for OOPs operation with file handling\n",
    "    ===================================================\n",
    "    We need to pass file_name, file_type, date and size\n",
    "    to perforn write, read and append operations.\n",
    "    '''\n",
    "    try:\n",
    "        def __init__(self, file_name, file_type, date, size):\n",
    "            '''\n",
    "            This is the constructor to initialize the variables\n",
    "            '''\n",
    "            self.data_log(\"Variable initializing\")\n",
    "            self.file_name = file_name\n",
    "            self.file_type = file_type\n",
    "            self.date = date\n",
    "            self.size = size\n",
    "            \n",
    "    except Exception as e:\n",
    "        self.data_log(e)\n",
    "        print(e)\n",
    "        \n",
    "    try:\n",
    "        def file_open(self):\n",
    "            '''\n",
    "            File creation and writing data to it wheather the input type is \n",
    "            list, dict, tuple or individual file\n",
    "            '''\n",
    "            self.data_log(\"File creation and writing data\")\n",
    "            if type(self.file_name) == list:\n",
    "                for i in file_name:\n",
    "                    with open(f\"{self.i}.{self.file_type}\", 'w') as file:\n",
    "                        file.write(f'This is a text file\\nCreated on {self.date}\\nWith size {self.size} passed as list')\n",
    "            elif type(self.file_name) == dict:\n",
    "                for i in file_name:\n",
    "                    with open(f\"{self.i}.{self.file_type}\", 'w') as file:\n",
    "                        file.write(f'This is a text file\\nCreated on {self.date}\\nWith size {self.size} passed as dict')\n",
    "            elif type(self.file_name) == tuple:\n",
    "                for i in file_name:\n",
    "                    with open(f\"{self.i}.{self.file_type}\", 'w') as file:\n",
    "                        file.write(f'This is a text file\\nCreated on {self.date}\\nWith size {self.size} passed as tuple')\n",
    "            else:\n",
    "                with open(f\"{self.file_name}.{self.file_type}\", 'w') as file:\n",
    "                    file.write(f'This is a text file\\nCreated on {self.date}\\nWith size {self.size}')\n",
    "    \n",
    "    except Exception as e:\n",
    "        self.data_log(e)\n",
    "        print(e)\n",
    "            \n",
    "    try:\n",
    "        def file_read(self):\n",
    "            '''\n",
    "            Reading files \n",
    "            '''\n",
    "            self.data_log(\"Reading data\")\n",
    "            if type(self.file_name) == list:\n",
    "                for i in file_name:\n",
    "                    with open(f\"{self.i}.{self.file_type}\", 'r') as file:\n",
    "                        print(file.read())\n",
    "                        return file.read\n",
    "            elif type(self.file_name) == dict:\n",
    "                for i in file_name:\n",
    "                    with open(f\"{self.i}.{self.file_type}\", 'r') as file:\n",
    "                        print(file.read())\n",
    "                        return file.read\n",
    "            elif type(self.file_name) == tuple:\n",
    "                for i in file_name:\n",
    "                    with open(f\"{self.i}.{self.file_type}\", 'r') as file:\n",
    "                        print(file.read())\n",
    "                        return file.read\n",
    "            else:\n",
    "                with open(f\"{self.file_name}.{self.file_type}\", 'r') as file:\n",
    "                    print(file.read())\n",
    "                    return file.read\n",
    "            \n",
    "            \n",
    "    except Exception as e:\n",
    "        self.data_log(e)\n",
    "        print(e)\n",
    "        \n",
    "    def __str__(self):\n",
    "        '''\n",
    "        This is the string description of the class\n",
    "        '''\n",
    "        self.data_log(\"String file\")\n",
    "        return 'This is Object oriented programming'\n",
    "    try:\n",
    "        def file_append(self):\n",
    "            '''\n",
    "            This function is for append operation\n",
    "            '''\n",
    "            self.data_log(\"Appending new data to the file then reading data\")\n",
    "            if type(self.file_name) == list:\n",
    "                for i in file_name:\n",
    "                    with open(f\"{self.i}.{self.file_type}\", 'a+') as file:\n",
    "                        file.write('\\n------------------------')\n",
    "                        file.write('\\nThis is new data for list')\n",
    "                        print(file.read())\n",
    "            elif type(self.file_name) == dict:\n",
    "                for i in file_name:\n",
    "                    for i in file_name:\n",
    "                        with open(f\"{self.i}.{self.file_type}\", 'a+') as file:\n",
    "                            file.write('\\n------------------------')\n",
    "                            file.write('\\nThis is new data for dict')\n",
    "                            print(file.read())\n",
    "            elif type(self.file_name) == tuple:\n",
    "                for i in file_name:\n",
    "                    for i in file_name:\n",
    "                        with open(f\"{self.i}.{self.file_type}\", 'a+') as file:\n",
    "                            file.write('\\n------------------------')\n",
    "                            file.write('\\nThis is new data for tuple')\n",
    "                            print(file.read())\n",
    "            else:\n",
    "                with open(f\"{self.file_name}.{self.file_type}\", 'a+') as file:\n",
    "                    file.write('\\n------------------------')\n",
    "                    file.write('\\nThis is new data')\n",
    "                    print(file.read())\n",
    "                \n",
    "    except Exception as e:\n",
    "        self.data_log(e)\n",
    "            \n",
    "            \n",
    "    def data_log(self, log):\n",
    "        '''\n",
    "        This function takes log as argument and stores it in a log file \n",
    "        '''\n",
    "        lg.basicConfig(filename=\"log_file.log\", level= lg.INFO,)\n",
    "        lg.info(log)\n",
    "    \n",
    "d = Data('test10', 'txt', '05/12/2022', '2MB')\n",
    "d.file_open()\n",
    "d.file_read()\n",
    "d.file_append()\n",
    "print(d)"
   ]
  },
  {
   "cell_type": "code",
   "execution_count": 2,
   "id": "cd078dd4",
   "metadata": {},
   "outputs": [
    {
     "data": {
      "text/plain": [
       "'C:\\\\Users\\\\Sai'"
      ]
     },
     "execution_count": 2,
     "metadata": {},
     "output_type": "execute_result"
    }
   ],
   "source": [
    "import os\n",
    "\n",
    "os.getcwd()"
   ]
  },
  {
   "cell_type": "code",
   "execution_count": 3,
   "id": "dc4d7b47",
   "metadata": {},
   "outputs": [
    {
     "data": {
      "text/plain": [
       "'C:\\\\Users\\\\Sai'"
      ]
     },
     "execution_count": 3,
     "metadata": {},
     "output_type": "execute_result"
    }
   ],
   "source": [
    "import os\n",
    "\n",
    "os.getcwd()"
   ]
  },
  {
   "cell_type": "code",
   "execution_count": 3,
   "id": "112df51d",
   "metadata": {},
   "outputs": [
    {
     "name": "stdout",
     "output_type": "stream",
     "text": [
      "C:\\Users\\Sai\\test1\n"
     ]
    }
   ],
   "source": [
    "cd C:\\Users\\Sai\\test1"
   ]
  },
  {
   "cell_type": "code",
   "execution_count": null,
   "id": "19914ec2",
   "metadata": {},
   "outputs": [],
   "source": []
  }
 ],
 "metadata": {
  "kernelspec": {
   "display_name": "Python 3 (ipykernel)",
   "language": "python",
   "name": "python3"
  },
  "language_info": {
   "codemirror_mode": {
    "name": "ipython",
    "version": 3
   },
   "file_extension": ".py",
   "mimetype": "text/x-python",
   "name": "python",
   "nbconvert_exporter": "python",
   "pygments_lexer": "ipython3",
   "version": "3.9.13"
  }
 },
 "nbformat": 4,
 "nbformat_minor": 5
}
