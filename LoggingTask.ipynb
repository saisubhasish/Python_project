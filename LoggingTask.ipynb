{
 "cells": [
  {
   "cell_type": "markdown",
   "id": "3c8758d5",
   "metadata": {},
   "source": [
    "# Logging\n",
    "### Q. Create a logger code, Create one function which can take only number of inputs as argument and it will be able to return sum of it, Capture user inputs in log, Give user instruction in log file, Read a logfile from pytghon code and show all the log in console."
   ]
  },
  {
   "cell_type": "code",
   "execution_count": 43,
   "id": "77dca39d",
   "metadata": {},
   "outputs": [
    {
     "name": "stdout",
     "output_type": "stream",
     "text": [
      "2022-11-22 12:27:57,809 This function takes any number of numeric arguments and return sum of all\n",
      "2022-11-22 12:27:57,809 5\n",
      "2022-11-22 12:27:57,809 8\n",
      "2022-11-22 12:27:57,817 4\n",
      "2022-11-22 12:27:57,817 5\n",
      "2022-11-22 12:27:57,817 6\n",
      "2022-11-22 12:27:57,817 65\n",
      "2022-11-22 12:27:57,817 5\n",
      "2022-11-22 12:27:57,817 6\n",
      "2022-11-22 12:27:57,817 8\n",
      "2022-11-22 12:27:57,817 65\n",
      "2022-11-22 12:27:57,817 65\n",
      "2022-11-22 12:27:57,817 11\n",
      "2022-11-22 12:27:57,817 65\n",
      "2022-11-22 12:27:57,817 64\n",
      "2022-11-22 12:27:57,817 658\n",
      "2022-11-22 12:27:57,817 7\n",
      "2022-11-22 12:27:57,817 894\n",
      "2022-11-22 12:28:43,605 This function takes any number of numeric arguments and return sum of all\n",
      "2022-11-22 12:28:43,605 (5, 8, 4, 5, 6, 65, 5, 6, 8, 65, 65, 11, 65, 64, 658, 7, 894)\n",
      "2022-11-22 12:30:17,523 This function takes any number of numeric arguments and return sum of all\n",
      "2022-11-22 12:30:17,523 (5, 8, 4, 5, 6, 65, 5, 6, 8, 65, 65, 11, 65, 64, 658, 7, 894)\n",
      "2022-11-22 12:35:04,726 This function takes any number of numeric arguments and return sum of all\n",
      "2022-11-22 12:35:04,726 (5, 8, 4, 5, 6, 65, 5, 6, 8, 65, 65, 11, 65, 64, 658, 7, 894)\n",
      "2022-11-22 12:36:21,511 This function takes any number of numeric arguments and return sum of all\n",
      "2022-11-22 12:36:21,511 (5, 8, 4, 5, 6, 65, 5, 6, 8, 65, 65, 11, 65, 64, 658, 7, 894)\n",
      "2022-11-22 12:38:18,711 This function takes any number of numeric arguments and return sum of all\n",
      "2022-11-22 12:38:18,711 (5, 8, 4, 5, 6, 65, 5, 6, 8, 65, 65, 11, 65, 64, 658, 7, 894)\n",
      "2022-11-22 12:42:48,134 This function takes any number of numeric arguments and return sum of all\n",
      "2022-11-22 12:42:48,134 ([4, 5, 8, 49, 86, 2, 57, 5],)\n",
      "2022-11-22 12:43:37,645 This function takes any number of numeric arguments and return sum of all\n",
      "2022-11-22 12:43:37,645 ([4, 5, 8, 6, 5],)\n",
      "2022-11-22 12:44:23,898 This function takes any number of numeric arguments and return sum of all\n",
      "2022-11-22 12:44:23,898 ([12, 5, 8, 5, 8, 4, 9, 8],)\n",
      "2022-11-22 12:44:39,361 This function takes any number of numeric arguments and return sum of all\n",
      "2022-11-22 12:44:39,361 ([5, 8, 7, 3],)\n",
      "2022-11-22 12:45:33,687 This function takes any number of numeric arguments and return sum of all\n",
      "2022-11-22 12:45:33,687 ('1,5,8,9,6,87',)\n",
      "2022-11-22 12:46:40,364 This function takes any number of numeric arguments and return sum of all\n",
      "2022-11-22 12:46:40,364 (5, 8, 4, 5, 6, 65, 5, 6, 8, 65, 65, 11, 65, 64, 658, 7, 894)\n",
      "2022-11-22 12:47:02,222 This function takes any number of numeric arguments and return sum of all\n",
      "2022-11-22 12:47:02,230 (5, 8, 4, 5, 6, 65, 5, 6, 8, 65, 65, 11, 65, 64, 658, 7, 894)\n",
      "2022-11-22 12:47:34,936 This function takes any number of numeric arguments and return sum of all\n",
      "2022-11-22 12:47:34,936 ('55,5,8,794',)\n",
      "2022-11-22 12:48:45,754 This function takes any number of numeric arguments and return sum of all\n",
      "2022-11-22 12:48:45,754 ('4,5,7,8',)\n",
      "2022-11-22 12:50:24,187 This function takes any number of numeric arguments and return sum of all\n",
      "2022-11-22 12:50:24,187 (5,)\n",
      "2022-11-22 12:53:43,445 This function takes any number of numeric arguments and return sum of all\n",
      "2022-11-22 12:53:43,445 ([5, 8, 7],)\n",
      "2022-11-22 12:54:32,546 This function takes any number of numeric arguments and return sum of all\n",
      "\n"
     ]
    }
   ],
   "source": [
    "import logging as lg\n",
    "import os\n",
    "\n",
    "lg.basicConfig(filename = 'C:\\\\Users\\\\Sai\\\\logging\\\\loggingTask.log', level = lg.INFO, format= '%(asctime)s %(message)s')\n",
    "\n",
    "def sum(l):\n",
    "    '''\n",
    "    This function takes any number of numeric arguments and return sum of all\n",
    "    '''\n",
    "    lg.info('This function takes any number of numeric arguments and return sum of all')\n",
    "    sum = 0\n",
    "    lg.info(l)\n",
    "    for i in l: \n",
    "        sum += int(i)    \n",
    "    return sum \n",
    "\n",
    "\n",
    "\n",
    "f = open('C:\\\\Users\\\\Sai\\\\logging\\\\loggingTask.log', 'r')\n",
    "print(f.read())\n",
    "f.close()"
   ]
  },
  {
   "cell_type": "markdown",
   "id": "047c8bb6",
   "metadata": {},
   "source": [
    "### Dynamic way and map, split, list"
   ]
  },
  {
   "cell_type": "code",
   "execution_count": 44,
   "id": "b5306e0e",
   "metadata": {},
   "outputs": [
    {
     "name": "stdout",
     "output_type": "stream",
     "text": [
      "5,8,9\n"
     ]
    },
    {
     "data": {
      "text/plain": [
       "22"
      ]
     },
     "execution_count": 44,
     "metadata": {},
     "output_type": "execute_result"
    }
   ],
   "source": [
    "s = list(map(int,input().split(',')))\n",
    "sum(s)"
   ]
  },
  {
   "cell_type": "markdown",
   "id": "6d845b2a",
   "metadata": {},
   "source": [
    "## Using *args"
   ]
  },
  {
   "cell_type": "code",
   "execution_count": 45,
   "id": "91f1b913",
   "metadata": {},
   "outputs": [
    {
     "name": "stdout",
     "output_type": "stream",
     "text": [
      "2022-11-22 12:27:57,809 This function takes any number of numeric arguments and return sum of all\n",
      "2022-11-22 12:27:57,809 5\n",
      "2022-11-22 12:27:57,809 8\n",
      "2022-11-22 12:27:57,817 4\n",
      "2022-11-22 12:27:57,817 5\n",
      "2022-11-22 12:27:57,817 6\n",
      "2022-11-22 12:27:57,817 65\n",
      "2022-11-22 12:27:57,817 5\n",
      "2022-11-22 12:27:57,817 6\n",
      "2022-11-22 12:27:57,817 8\n",
      "2022-11-22 12:27:57,817 65\n",
      "2022-11-22 12:27:57,817 65\n",
      "2022-11-22 12:27:57,817 11\n",
      "2022-11-22 12:27:57,817 65\n",
      "2022-11-22 12:27:57,817 64\n",
      "2022-11-22 12:27:57,817 658\n",
      "2022-11-22 12:27:57,817 7\n",
      "2022-11-22 12:27:57,817 894\n",
      "2022-11-22 12:28:43,605 This function takes any number of numeric arguments and return sum of all\n",
      "2022-11-22 12:28:43,605 (5, 8, 4, 5, 6, 65, 5, 6, 8, 65, 65, 11, 65, 64, 658, 7, 894)\n",
      "2022-11-22 12:30:17,523 This function takes any number of numeric arguments and return sum of all\n",
      "2022-11-22 12:30:17,523 (5, 8, 4, 5, 6, 65, 5, 6, 8, 65, 65, 11, 65, 64, 658, 7, 894)\n",
      "2022-11-22 12:35:04,726 This function takes any number of numeric arguments and return sum of all\n",
      "2022-11-22 12:35:04,726 (5, 8, 4, 5, 6, 65, 5, 6, 8, 65, 65, 11, 65, 64, 658, 7, 894)\n",
      "2022-11-22 12:36:21,511 This function takes any number of numeric arguments and return sum of all\n",
      "2022-11-22 12:36:21,511 (5, 8, 4, 5, 6, 65, 5, 6, 8, 65, 65, 11, 65, 64, 658, 7, 894)\n",
      "2022-11-22 12:38:18,711 This function takes any number of numeric arguments and return sum of all\n",
      "2022-11-22 12:38:18,711 (5, 8, 4, 5, 6, 65, 5, 6, 8, 65, 65, 11, 65, 64, 658, 7, 894)\n",
      "2022-11-22 12:42:48,134 This function takes any number of numeric arguments and return sum of all\n",
      "2022-11-22 12:42:48,134 ([4, 5, 8, 49, 86, 2, 57, 5],)\n",
      "2022-11-22 12:43:37,645 This function takes any number of numeric arguments and return sum of all\n",
      "2022-11-22 12:43:37,645 ([4, 5, 8, 6, 5],)\n",
      "2022-11-22 12:44:23,898 This function takes any number of numeric arguments and return sum of all\n",
      "2022-11-22 12:44:23,898 ([12, 5, 8, 5, 8, 4, 9, 8],)\n",
      "2022-11-22 12:44:39,361 This function takes any number of numeric arguments and return sum of all\n",
      "2022-11-22 12:44:39,361 ([5, 8, 7, 3],)\n",
      "2022-11-22 12:45:33,687 This function takes any number of numeric arguments and return sum of all\n",
      "2022-11-22 12:45:33,687 ('1,5,8,9,6,87',)\n",
      "2022-11-22 12:46:40,364 This function takes any number of numeric arguments and return sum of all\n",
      "2022-11-22 12:46:40,364 (5, 8, 4, 5, 6, 65, 5, 6, 8, 65, 65, 11, 65, 64, 658, 7, 894)\n",
      "2022-11-22 12:47:02,222 This function takes any number of numeric arguments and return sum of all\n",
      "2022-11-22 12:47:02,230 (5, 8, 4, 5, 6, 65, 5, 6, 8, 65, 65, 11, 65, 64, 658, 7, 894)\n",
      "2022-11-22 12:47:34,936 This function takes any number of numeric arguments and return sum of all\n",
      "2022-11-22 12:47:34,936 ('55,5,8,794',)\n",
      "2022-11-22 12:48:45,754 This function takes any number of numeric arguments and return sum of all\n",
      "2022-11-22 12:48:45,754 ('4,5,7,8',)\n",
      "2022-11-22 12:50:24,187 This function takes any number of numeric arguments and return sum of all\n",
      "2022-11-22 12:50:24,187 (5,)\n",
      "2022-11-22 12:53:43,445 This function takes any number of numeric arguments and return sum of all\n",
      "2022-11-22 12:53:43,445 ([5, 8, 7],)\n",
      "2022-11-22 12:54:32,546 This function takes any number of numeric arguments and return sum of all\n",
      "2022-11-22 12:54:50,271 This function takes any number of numeric arguments and return sum of all\n",
      "2022-11-22 12:54:50,271 [5, 8, 9]\n",
      "2022-11-22 12:56:05,631 This function takes any number of numeric arguments and return sum of all\n",
      "2022-11-22 12:56:05,631 (8, 5, 4, 7, 6, 10)\n",
      "\n"
     ]
    }
   ],
   "source": [
    "import logging as lg\n",
    "import os\n",
    "\n",
    "lg.basicConfig(filename = 'C:\\\\Users\\\\Sai\\\\logging\\\\loggingTask.log', level = lg.INFO, format= '%(asctime)s %(message)s')\n",
    "\n",
    "def sum(*args):\n",
    "    '''\n",
    "    This function takes any number of numeric arguments and return sum of all\n",
    "    '''\n",
    "    lg.info('This function takes any number of numeric arguments and return sum of all')\n",
    "    sum = 0\n",
    "    lg.info(args)\n",
    "    for i in args: \n",
    "        sum += int(i)    \n",
    "    return sum \n",
    "\n",
    "\n",
    "sum(8,5,4,7,6,10)\n",
    "f = open('C:\\\\Users\\\\Sai\\\\logging\\\\loggingTask.log', 'r')\n",
    "print(f.read())\n",
    "f.close()"
   ]
  },
  {
   "cell_type": "code",
   "execution_count": null,
   "id": "2be5b453",
   "metadata": {},
   "outputs": [],
   "source": []
  },
  {
   "cell_type": "code",
   "execution_count": null,
   "id": "e0455c7b",
   "metadata": {},
   "outputs": [],
   "source": []
  },
  {
   "cell_type": "code",
   "execution_count": null,
   "id": "ba230dcf",
   "metadata": {},
   "outputs": [],
   "source": []
  },
  {
   "cell_type": "code",
   "execution_count": 5,
   "id": "4b3ce6f2",
   "metadata": {},
   "outputs": [],
   "source": [
    "os.chdir('C:\\\\Users\\\\Sai\\\\logging')"
   ]
  },
  {
   "cell_type": "code",
   "execution_count": 6,
   "id": "e896bebc",
   "metadata": {},
   "outputs": [
    {
     "data": {
      "text/plain": [
       "'C:\\\\Users\\\\Sai\\\\logging'"
      ]
     },
     "execution_count": 6,
     "metadata": {},
     "output_type": "execute_result"
    }
   ],
   "source": [
    "pwd"
   ]
  },
  {
   "cell_type": "code",
   "execution_count": 7,
   "id": "8442504e",
   "metadata": {},
   "outputs": [
    {
     "data": {
      "text/plain": [
       "['loggingTask.log', 'test.log', 'test1.log']"
      ]
     },
     "execution_count": 7,
     "metadata": {},
     "output_type": "execute_result"
    }
   ],
   "source": [
    "os.listdir()"
   ]
  },
  {
   "cell_type": "code",
   "execution_count": 8,
   "id": "14761c5f",
   "metadata": {},
   "outputs": [],
   "source": []
  },
  {
   "cell_type": "code",
   "execution_count": null,
   "id": "0bd86712",
   "metadata": {},
   "outputs": [],
   "source": []
  },
  {
   "cell_type": "code",
   "execution_count": null,
   "id": "f9898aab",
   "metadata": {},
   "outputs": [],
   "source": []
  }
 ],
 "metadata": {
  "kernelspec": {
   "display_name": "Python 3 (ipykernel)",
   "language": "python",
   "name": "python3"
  },
  "language_info": {
   "codemirror_mode": {
    "name": "ipython",
    "version": 3
   },
   "file_extension": ".py",
   "mimetype": "text/x-python",
   "name": "python",
   "nbconvert_exporter": "python",
   "pygments_lexer": "ipython3",
   "version": "3.9.13"
  }
 },
 "nbformat": 4,
 "nbformat_minor": 5
}
